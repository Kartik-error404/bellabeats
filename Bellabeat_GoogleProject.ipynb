{
  "metadata": {
    "kernelspec": {
      "name": "ir",
      "display_name": "R",
      "language": "R"
    },
    "language_info": {
      "name": "R",
      "codemirror_mode": "r",
      "pygments_lexer": "r",
      "mimetype": "text/x-r-source",
      "file_extension": ".r",
      "version": "4.0.5"
    },
    "kaggle": {
      "accelerator": "none",
      "dataSources": [
        {
          "sourceId": 7746251,
          "sourceType": "datasetVersion",
          "datasetId": 1041311
        }
      ],
      "dockerImageVersionId": 30618,
      "isInternetEnabled": false,
      "language": "r",
      "sourceType": "notebook",
      "isGpuEnabled": false
    },
    "colab": {
      "name": "Bellabeat_GoogleProject",
      "provenance": []
    }
  },
  "nbformat_minor": 0,
  "nbformat": 4,
  "cells": [
    {
      "source": [
        "\n",
        "# IMPORTANT: RUN THIS CELL IN ORDER TO IMPORT YOUR KAGGLE DATA SOURCES\n",
        "# TO THE CORRECT LOCATION (/kaggle/input) IN YOUR NOTEBOOK,\n",
        "# THEN FEEL FREE TO DELETE THIS CELL.\n",
        "# NOTE: THIS NOTEBOOK ENVIRONMENT DIFFERS FROM KAGGLE'S R\n",
        "# ENVIRONMENT SO THERE MAY BE MISSING LIBRARIES USED BY YOUR\n",
        "# NOTEBOOK.\n",
        "\n",
        "DATA_SOURCE_MAPPING = 'fitbit:https%3A%2F%2Fstorage.googleapis.com%2Fkaggle-data-sets%2F1041311%2F7746251%2Fbundle%2Farchive.zip%3FX-Goog-Algorithm%3DGOOG4-RSA-SHA256%26X-Goog-Credential%3Dgcp-kaggle-com%2540kaggle-161607.iam.gserviceaccount.com%252F20250706%252Fauto%252Fstorage%252Fgoog4_request%26X-Goog-Date%3D20250706T103324Z%26X-Goog-Expires%3D259200%26X-Goog-SignedHeaders%3Dhost%26X-Goog-Signature%3D2622460e5dc08b49135c98460066a6258c7add1d216adf87d36486047325915d5ec3ab29d587a35a5f9d7bcec1172578677638d8d01f2ee544bc39bd130460e6746d1312ff65e43b398e1b954031ad4e4de8ddfc8796c7695d3baf5d9c1bb8df56d48ce9a403855373dc2a07e9cccc5fb7168bf66feab094013964f7afdb111569daf581697cec315e41daed28482c9434897236bf1e9cf81ae477a253fdec6e168a5b8c453beae527edbb554aa0ba37d2fb0c0d8ff61a66d743353e0f7e6b9cae81a575fe9180ba7da2444a090748511495a3fc898c02528f545e67b6ce36c6b8a429656948b0eb1474fe6874b28bc5a7ffd8033ec74cc87cd711f79f0bdd80'\n",
        "\n",
        "KAGGLE_INPUT_PATH = '/kaggle/input'\n",
        "KAGGLE_WORKING_PATH = '/kaggle/working'\n",
        "\n",
        "system(paste0('sudo umount ', '/kaggle/input'))\n",
        "system(paste0('sudo rmdir ', '/kaggle/input'))\n",
        "system(paste0('sudo mkdir -p -- ', KAGGLE_INPUT_PATH), intern=TRUE)\n",
        "system(paste0('sudo chmod 777 ', KAGGLE_INPUT_PATH), intern=TRUE)\n",
        "system(\n",
        "  paste0('sudo ln -sfn ', KAGGLE_INPUT_PATH,' ',file.path('..', 'input')),\n",
        "  intern=TRUE)\n",
        "\n",
        "system(paste0('sudo mkdir -p -- ', KAGGLE_WORKING_PATH), intern=TRUE)\n",
        "system(paste0('sudo chmod 777 ', KAGGLE_WORKING_PATH), intern=TRUE)\n",
        "system(\n",
        "  paste0('sudo ln -sfn ', KAGGLE_WORKING_PATH, ' ', file.path('..', 'working')),\n",
        "  intern=TRUE)\n",
        "\n",
        "data_source_mappings = strsplit(DATA_SOURCE_MAPPING, ',')[[1]]\n",
        "for (data_source_mapping in data_source_mappings) {\n",
        "    path_and_url = strsplit(data_source_mapping, ':')\n",
        "    directory = path_and_url[[1]][1]\n",
        "    download_url = URLdecode(path_and_url[[1]][2])\n",
        "    filename = sub(\"\\\\?.+\", \"\", download_url)\n",
        "    destination_path = file.path(KAGGLE_INPUT_PATH, directory)\n",
        "    print(paste0('Downloading and uncompressing: ', directory))\n",
        "    if (endsWith(filename, '.zip')){\n",
        "      temp = tempfile(fileext = '.zip')\n",
        "      download.file(download_url, temp)\n",
        "      unzip(temp, overwrite = TRUE, exdir = destination_path)\n",
        "      unlink(temp)\n",
        "    }\n",
        "    else{\n",
        "      temp = tempfile(fileext = '.tar')\n",
        "      download.file(download_url, temp)\n",
        "      untar(temp, exdir = destination_path)\n",
        "      unlink(temp)\n",
        "    }\n",
        "    print(paste0('Downloaded and uncompressed: ', directory))\n",
        "}\n",
        "\n",
        "print(paste0('Data source import complete'))\n"
      ],
      "metadata": {
        "id": "77gbyDYJTErp",
        "outputId": "c1144a6b-c563-4f05-9913-419c25d5a937",
        "colab": {
          "base_uri": "https://localhost:8080/",
          "height": 71
        }
      },
      "cell_type": "code",
      "outputs": [
        {
          "output_type": "display_data",
          "data": {
            "text/html": [],
            "text/markdown": "",
            "text/latex": "",
            "text/plain": [
              "character(0)"
            ]
          },
          "metadata": {}
        },
        {
          "output_type": "display_data",
          "data": {
            "text/html": [],
            "text/markdown": "",
            "text/latex": "",
            "text/plain": [
              "character(0)"
            ]
          },
          "metadata": {}
        },
        {
          "output_type": "display_data",
          "data": {
            "text/html": [],
            "text/markdown": "",
            "text/latex": "",
            "text/plain": [
              "character(0)"
            ]
          },
          "metadata": {}
        },
        {
          "output_type": "display_data",
          "data": {
            "text/html": [],
            "text/markdown": "",
            "text/latex": "",
            "text/plain": [
              "character(0)"
            ]
          },
          "metadata": {}
        },
        {
          "output_type": "display_data",
          "data": {
            "text/html": [],
            "text/markdown": "",
            "text/latex": "",
            "text/plain": [
              "character(0)"
            ]
          },
          "metadata": {}
        },
        {
          "output_type": "display_data",
          "data": {
            "text/html": [],
            "text/markdown": "",
            "text/latex": "",
            "text/plain": [
              "character(0)"
            ]
          },
          "metadata": {}
        },
        {
          "output_type": "stream",
          "name": "stdout",
          "text": [
            "[1] \"Downloading and uncompressing: fitbit\"\n",
            "[1] \"Downloaded and uncompressed: fitbit\"\n",
            "[1] \"Data source import complete\"\n"
          ]
        }
      ],
      "execution_count": 1
    },
    {
      "cell_type": "markdown",
      "source": [
        "\n"
      ],
      "metadata": {
        "_uuid": "051d70d956493feee0c6d64651c6a088724dca2a",
        "_execution_state": "idle",
        "id": "UUxR0waATErt"
      }
    },
    {
      "cell_type": "markdown",
      "source": [
        "# Case study: Bellabeat\n",
        "\n",
        "## author: Sergio Cupabán\n",
        "\n",
        "### 04/06/2024\n",
        "\n"
      ],
      "metadata": {
        "id": "PPbiyhJFTEru"
      }
    },
    {
      "cell_type": "markdown",
      "source": [
        "## INTRODUCTION\n",
        "\n",
        "This is a Bellabeat data analysis case study by the Google Data Analytics Capstone project. In this case study, I will perform many real-world tasks as a data analyst. To answer the key business questions, I will be following the steps of the data analysis process taught in the course: ask, prepare, process, analyze, share, and act.\n",
        "\n",
        "### Scenario\n",
        "\n",
        "Bellabeat is a successful small company, but they have the potential to become a larger player in the global smart device market. Urška Sršen, cofounder and Chief Creative Officer of Bellabeat, believes that analyzing smart device fitness data could help unlock new growth opportunities for the company. As a junior Data Analst, I will focus on one of Bellabeat’s products and analyze smart device data to gain insight into how consumers are using their smart devices. The  discovered insights will help to guide marketing strategy for the company. I will present an analysis to the Bellabeat executive team along with your high-level recommendations for Bellabeat’s marketing strategy.\n",
        "\n",
        "### Characters\n",
        "\n",
        "__Urška Sršen:__ Bellabeat’s cofounder and Chief Creative Officer\n",
        "\n",
        "__Sando Mur:__ Mathematician and Bellabeat’s cofounder; key member of the Bellabeat executive team\n",
        "\n",
        "__Bellabeat marketing analytics team:__ A team of data analysts responsible for collecting, analyzing, and reporting\n",
        "data that helps guide Bellabeat’s marketing strategy. You joined this team six months ago and have been busy\n",
        "learning about Bellabeat’’s mission and business goals — as well as how you, as a junior data analyst, can help\n",
        "Bellabeat achieve them.\n",
        "● Products\n",
        "○ Bellabeat app: The Bellab\n",
        "\n",
        "### Products of BELLABEAT\n",
        "\n",
        "__Bellabeat app:__ The Bellabeat app provides users with health data related to their activity, sleep, stress, menstrual cycle, and mindfulness habits. This data can help users better understand their current habits and make healthy decisions. The Bellabeat app connects to their line of smart wellness products.\n",
        "\n",
        "__Leaf:__ Bellabeat’s classic wellness tracker can be worn as a bracelet, necklace, or clip. The Leaf Tracker connects to the Bellabeat app to track activity, sleep, and stress.\n",
        "\n",
        "__Time:__ This wellness watch combines the timeless look of a classic timepiece with smart technology to track user activity, sleep, and stress. The Time watch connects to the Bellabeat app to provide you with insights into your daily wellness.\n",
        "\n",
        "__Spring:__ This is a water bottle that tracks daily water intake using smart technology to ensure that you are appropriately hydrated throughout the day. The Spring bottle connects to the Bellabeat app to track your hydration levels.\n",
        "\n",
        "__Bellabeat membership:__ Bellabeat also offers a subscription-based membership program for users. Membership gives users 24/7 access to fully personalized guidance on nutrition, activity, sleep, health and beauty, and mindfulness, based on their lifestyle and goals.\n",
        "\n",
        "\n",
        "## ASK\n",
        "\n",
        "Keeping in mind the key stakeholders mentioned above, my job is to first ask the right questions to identify what problem I am going to solve. As per business task, I have to analyze smart device usage data to get insights on how consumers use smart devices. All questions should focus on finding trends and using the results to make decisions and influence marketing strategies.\n",
        "\n",
        "## PREPARE\n",
        "__Dataset:__ the provided dataset is stored in the Kaggle public domain and is made available through Mobius. The data is organized in a long format.\n",
        "\n",
        "__Data bias or credibility(ROCCC):__ the dataset shows a sample selection bias as it does not reflect the overall population and we are not sure if the sample (33 users) is representative of the sample as a whole. The dataset is not currentFor the purposes of the study the chosen data is from 12th April ’16 to 12th May ’16 for our analysis. Although data from **12th March ’16 to 11th April '16 ** are cited has null values and is missing important information for daily calories, intensities and steps, the data is original, reliable but not comprehensive and complete.\n",
        "Perhaps other details should have been considered for the study, such as some demographic variables to see another type of influence on the results, even to think about what type of customers can be classified to drive the marketing strategy.\n",
        "\n",
        "__Data privacy and integrity:__ this Kaggle data set contains a personal fitness tracker from thirty three Fitbit users consented to the submission of personal tracker data, including minute-level output for physical activity, heart rate, and sleep monitoring. It includes information about daily activity, steps, and heart rate that can be used to explore users’ habits.\n",
        "\n",
        "The data set contains eighteen csv format tables, for this case only some of those will be considered. Our business task are not the detailed performance of users, therefore, we will be focusing on the datasets related to daily timeframe. This means, the daily activity datasets along with the daily sleep data. Some merging tables are going to be useful for the analysis.\n",
        "Next, some packages and libraries need to be installed:"
      ],
      "metadata": {
        "id": "5xLqZFZLTEru"
      }
    },
    {
      "cell_type": "code",
      "source": [
        "library(tidyverse)\n",
        "library(ggplot2)\n",
        "library(lubridate)\n",
        "library(dplyr)\n",
        "library(janitor)\n",
        "library(skimr)\n",
        "library(readr)"
      ],
      "metadata": {
        "execution": {
          "iopub.status.busy": "2024-06-05T04:04:05.497044Z",
          "iopub.execute_input": "2024-06-05T04:04:05.498875Z",
          "iopub.status.idle": "2024-06-05T04:04:05.526105Z"
        },
        "trusted": true,
        "id": "pIc7mDcSTErv",
        "outputId": "175ed3b5-8273-4007-e2a3-505ebc7b49e2",
        "colab": {
          "base_uri": "https://localhost:8080/",
          "height": 287
        }
      },
      "execution_count": 2,
      "outputs": [
        {
          "output_type": "stream",
          "name": "stderr",
          "text": [
            "── \u001b[1mAttaching core tidyverse packages\u001b[22m ──────────────────────── tidyverse 2.0.0 ──\n",
            "\u001b[32m✔\u001b[39m \u001b[34mdplyr    \u001b[39m 1.1.4     \u001b[32m✔\u001b[39m \u001b[34mreadr    \u001b[39m 2.1.5\n",
            "\u001b[32m✔\u001b[39m \u001b[34mforcats  \u001b[39m 1.0.0     \u001b[32m✔\u001b[39m \u001b[34mstringr  \u001b[39m 1.5.1\n",
            "\u001b[32m✔\u001b[39m \u001b[34mggplot2  \u001b[39m 3.5.2     \u001b[32m✔\u001b[39m \u001b[34mtibble   \u001b[39m 3.3.0\n",
            "\u001b[32m✔\u001b[39m \u001b[34mlubridate\u001b[39m 1.9.4     \u001b[32m✔\u001b[39m \u001b[34mtidyr    \u001b[39m 1.3.1\n",
            "\u001b[32m✔\u001b[39m \u001b[34mpurrr    \u001b[39m 1.0.4     \n",
            "── \u001b[1mConflicts\u001b[22m ────────────────────────────────────────── tidyverse_conflicts() ──\n",
            "\u001b[31m✖\u001b[39m \u001b[34mdplyr\u001b[39m::\u001b[32mfilter()\u001b[39m masks \u001b[34mstats\u001b[39m::filter()\n",
            "\u001b[31m✖\u001b[39m \u001b[34mdplyr\u001b[39m::\u001b[32mlag()\u001b[39m    masks \u001b[34mstats\u001b[39m::lag()\n",
            "\u001b[36mℹ\u001b[39m Use the conflicted package (\u001b[3m\u001b[34m<http://conflicted.r-lib.org/>\u001b[39m\u001b[23m) to force all conflicts to become errors\n"
          ]
        },
        {
          "output_type": "error",
          "ename": "ERROR",
          "evalue": "Error in library(janitor): there is no package called ‘janitor’\n",
          "traceback": [
            "Error in library(janitor): there is no package called ‘janitor’\nTraceback:\n",
            "1. stop(packageNotFoundError(package, lib.loc, sys.call()))"
          ]
        }
      ]
    },
    {
      "cell_type": "markdown",
      "source": [
        "Uploading data:\n"
      ],
      "metadata": {
        "id": "Q0Ub7cQkTErv"
      }
    },
    {
      "cell_type": "code",
      "source": [
        "daily_activity <- read.csv(\"/kaggle/input/fitbit/mturkfitbit_export_4.12.16-5.12.16/Fitabase Data 4.12.16-5.12.16/dailyActivity_merged.csv\")\n",
        "hourly_calories <- read.csv(\"/kaggle/input/fitbit/mturkfitbit_export_4.12.16-5.12.16/Fitabase Data 4.12.16-5.12.16/hourlyCalories_merged.csv\")\n",
        "hourly_intensities <- read.csv(\"/kaggle/input/fitbit/mturkfitbit_export_4.12.16-5.12.16/Fitabase Data 4.12.16-5.12.16/hourlyIntensities_merged.csv\")\n",
        "sleep_day <- read.csv(\"/kaggle/input/fitbit/mturkfitbit_export_4.12.16-5.12.16/Fitabase Data 4.12.16-5.12.16/sleepDay_merged.csv\")\n",
        "weight_log_info <- read.csv(\"/kaggle/input/fitbit/mturkfitbit_export_4.12.16-5.12.16/Fitabase Data 4.12.16-5.12.16/weightLogInfo_merged.csv\")\n"
      ],
      "metadata": {
        "execution": {
          "iopub.status.busy": "2024-06-05T04:04:05.529912Z",
          "iopub.execute_input": "2024-06-05T04:04:05.532324Z",
          "iopub.status.idle": "2024-06-05T04:04:05.663615Z"
        },
        "trusted": true,
        "id": "kHeh52MeTErv"
      },
      "execution_count": null,
      "outputs": []
    },
    {
      "cell_type": "markdown",
      "source": [
        "Let's see some details ofthe tables."
      ],
      "metadata": {
        "id": "8epZ-1tVTErw"
      }
    },
    {
      "cell_type": "code",
      "source": [
        "glimpse(daily_activity)\n",
        "glimpse(hourly_calories)\n",
        "glimpse(hourly_intensities)\n",
        "glimpse(sleep_day)\n",
        "glimpse(weight_log_info)"
      ],
      "metadata": {
        "execution": {
          "iopub.status.busy": "2024-06-05T04:04:05.667496Z",
          "iopub.execute_input": "2024-06-05T04:04:05.668925Z",
          "iopub.status.idle": "2024-06-05T04:04:05.727962Z"
        },
        "trusted": true,
        "id": "9iNP35EfTErw"
      },
      "execution_count": null,
      "outputs": []
    },
    {
      "cell_type": "markdown",
      "source": [
        "Using head function:"
      ],
      "metadata": {
        "id": "7gVLdz88TErx"
      }
    },
    {
      "cell_type": "code",
      "source": [
        "head(daily_activity)\n",
        "head(hourly_calories)\n",
        "head(hourly_intensities)\n",
        "head(sleep_day)\n",
        "head(weight_log_info)"
      ],
      "metadata": {
        "execution": {
          "iopub.status.busy": "2024-06-05T04:04:05.731496Z",
          "iopub.execute_input": "2024-06-05T04:04:05.732778Z",
          "iopub.status.idle": "2024-06-05T04:04:05.827794Z"
        },
        "trusted": true,
        "id": "801QhqL7TErx"
      },
      "execution_count": null,
      "outputs": []
    },
    {
      "cell_type": "markdown",
      "source": [
        "Cleaning data:"
      ],
      "metadata": {
        "id": "vPCbSWZ0TErx"
      }
    },
    {
      "cell_type": "code",
      "source": [
        "# Remove duplicates from each dataset\n",
        "daily_activity <- daily_activity %>% distinct()\n",
        "hourly_calories <- hourly_calories %>% distinct()\n",
        "hourly_intensities <- hourly_intensities %>% distinct()\n",
        "sleep_day <- sleep_day %>% distinct()\n",
        "weight_log_info <- weight_log_info %>% distinct()"
      ],
      "metadata": {
        "execution": {
          "iopub.status.busy": "2024-06-05T04:04:05.831306Z",
          "iopub.execute_input": "2024-06-05T04:04:05.832613Z",
          "iopub.status.idle": "2024-06-05T04:04:05.857847Z"
        },
        "trusted": true,
        "id": "dY25gd23TErx"
      },
      "execution_count": null,
      "outputs": []
    },
    {
      "cell_type": "markdown",
      "source": [
        "Changing Date to right format:"
      ],
      "metadata": {
        "id": "25r-tz0ITErx"
      }
    },
    {
      "cell_type": "code",
      "source": [
        "daily_activity$ActivityDate <- as.Date(daily_activity$ActivityDate, format = \"%m/%d/%Y\")\n",
        "daily_activity$day_of_week <- format(daily_activity$ActivityDate, \"%A\", locale = \"English\")\n",
        "\n",
        "hourly_calories$ActivityHour <- mdy_hms(hourly_calories$ActivityHour)\n",
        "hourly_calories$Time <- format(hourly_calories$ActivityHour, format = \"%H:%M%:%S\")\n",
        "hourly_calories$Date <- format(hourly_calories$ActivityHour, format = \"%m/%d/%y\")\n",
        "\n",
        "hourly_intensities$ActivityHour <- mdy_hms(hourly_intensities$ActivityHour)\n",
        "hourly_intensities$Time <- format(hourly_intensities$ActivityHour, format = \"%H:%M%:%S\")\n",
        "hourly_intensities$Date <- format(hourly_intensities$ActivityHour, format = \"%m/%d/%y\")\n",
        "\n",
        "sleep_day$SleepDay <- mdy_hms(sleep_day$SleepDay )\n",
        "\n",
        "weight_log_info$Date <- as.Date(weight_log_info$Date, format = \"%m/%d/%y\")\n"
      ],
      "metadata": {
        "execution": {
          "iopub.status.busy": "2024-06-05T04:04:05.860355Z",
          "iopub.execute_input": "2024-06-05T04:04:05.861749Z",
          "iopub.status.idle": "2024-06-05T04:04:06.025019Z"
        },
        "trusted": true,
        "id": "gFQqhf5CTEry"
      },
      "execution_count": null,
      "outputs": []
    },
    {
      "cell_type": "markdown",
      "source": [
        "## PROCESS\n",
        "\n",
        "We are going to look for insights during manipulation of data can start checking the number of elements or rows in each table:"
      ],
      "metadata": {
        "id": "EOot9VNOTEry"
      }
    },
    {
      "cell_type": "code",
      "source": [
        "# data sample per table\n",
        "nrow(daily_activity)\n",
        "nrow(hourly_calories)\n",
        "nrow(hourly_intensities)\n",
        "nrow(sleep_day)\n",
        "nrow(weight_log_info)"
      ],
      "metadata": {
        "execution": {
          "iopub.status.busy": "2024-06-05T04:04:06.027501Z",
          "iopub.execute_input": "2024-06-05T04:04:06.028819Z",
          "iopub.status.idle": "2024-06-05T04:04:06.060559Z"
        },
        "trusted": true,
        "id": "K2boxLMgTEry"
      },
      "execution_count": null,
      "outputs": []
    },
    {
      "cell_type": "markdown",
      "source": [
        "As we can see, 'hourly_calories' and 'hourly_intensitie' are the tables with highest sample size, while 'weight_log_info' is the smallest sample size. Now we will check the number of individuals."
      ],
      "metadata": {
        "id": "oFonvoftTEry"
      }
    },
    {
      "cell_type": "code",
      "source": [
        "# individuals per table\n",
        "n_distinct(daily_activity$Id)\n",
        "n_distinct(hourly_calories$Id)\n",
        "n_distinct(hourly_intensities$Id)\n",
        "n_distinct(sleep_day$Id)\n",
        "n_distinct(weight_log_info$Id)"
      ],
      "metadata": {
        "execution": {
          "iopub.status.busy": "2024-06-05T04:04:06.062936Z",
          "iopub.execute_input": "2024-06-05T04:04:06.064198Z",
          "iopub.status.idle": "2024-06-05T04:04:06.097359Z"
        },
        "trusted": true,
        "id": "oPrXk7DxTEry"
      },
      "execution_count": null,
      "outputs": []
    },
    {
      "cell_type": "markdown",
      "source": [
        "Now we will see some interesting statistic for our tables.\n"
      ],
      "metadata": {
        "id": "qt-kK-ivTEry"
      }
    },
    {
      "cell_type": "code",
      "source": [
        "daily_activity %>%\n",
        "  select(TotalSteps,\n",
        "         TotalDistance,VeryActiveMinutes,\n",
        "         FairlyActiveMinutes,\n",
        "         LightlyActiveMinutes,\n",
        "         SedentaryMinutes,\n",
        "         Calories) %>%\n",
        "  summary()"
      ],
      "metadata": {
        "execution": {
          "iopub.status.busy": "2024-06-05T04:04:06.099814Z",
          "iopub.execute_input": "2024-06-05T04:04:06.101124Z",
          "iopub.status.idle": "2024-06-05T04:04:06.125456Z"
        },
        "trusted": true,
        "id": "v1OrfkDGTEry"
      },
      "execution_count": null,
      "outputs": []
    },
    {
      "cell_type": "markdown",
      "source": [
        "If we observe the central tendency for \"VeryActiveMinutes\" we could say most of the people spend very little time in physical activity with just 21 minutes on average. Based on the same concept, most of the people have a lot of time as \"SedentaryMinutes\" almost 17 hours, If we had demographic information we might know more details about that time, for instance, we might say most of time is working and increases bucause of weekends y part of that time is asleep time.\n"
      ],
      "metadata": {
        "id": "qAKYJxaQTEry"
      }
    },
    {
      "cell_type": "code",
      "source": [
        "sleep_day %>%\n",
        "  select(TotalMinutesAsleep,\n",
        "         TotalTimeInBed) %>%\n",
        "  summary()"
      ],
      "metadata": {
        "execution": {
          "iopub.status.busy": "2024-06-05T04:04:06.12794Z",
          "iopub.execute_input": "2024-06-05T04:04:06.129246Z",
          "iopub.status.idle": "2024-06-05T04:04:06.147341Z"
        },
        "trusted": true,
        "id": "eRJtV0JqTEry"
      },
      "execution_count": null,
      "outputs": []
    },
    {
      "cell_type": "markdown",
      "source": [
        "AS we can see, the people sleep around 7 hours and apparently do not take lot of time to sleep. Let's check a little more..."
      ],
      "metadata": {
        "id": "4uMRHAorTEry"
      }
    },
    {
      "cell_type": "code",
      "source": [
        "sleep_day %>%\n",
        "  group_by(TotalSleepRecords) %>%\n",
        "  summarise(\n",
        "    count = n(),\n",
        "    mean_total_minutes_asleep = mean(TotalMinutesAsleep),\n",
        "    mean_total_minutes_inbed = mean(TotalTimeInBed),\n",
        "    total_minutes_asleep = sum(TotalMinutesAsleep),\n",
        "    total_time_in_bed = sum(TotalTimeInBed))"
      ],
      "metadata": {
        "execution": {
          "iopub.status.busy": "2024-06-05T04:04:06.149911Z",
          "iopub.execute_input": "2024-06-05T04:04:06.151208Z",
          "iopub.status.idle": "2024-06-05T04:04:06.184139Z"
        },
        "trusted": true,
        "id": "R7Iau3jFTErz"
      },
      "execution_count": null,
      "outputs": []
    },
    {
      "cell_type": "markdown",
      "source": [
        "We can see just few people have 2 or 3 records, that might be snaps even on weekends, but the people mostly have 1 record.\n",
        "\n",
        "### Some Visualizations\n",
        "\n",
        "Let's see some relationships:"
      ],
      "metadata": {
        "id": "o4G2fU0YTErz"
      }
    },
    {
      "cell_type": "code",
      "source": [
        "ggplot(data=daily_activity, aes(x=TotalSteps, y=SedentaryMinutes, color= Calories)) + geom_point() + geom_smooth(method = \"lm\", color=\"red\") + ggtitle(\"Total Steps and Calories burned vs Sedentary Minutes\")\n",
        "\n",
        "ggplot(data = daily_activity, aes(x = TotalSteps, y = TotalDistance, color = Calories)) + geom_point() +\n",
        "  geom_smooth(color=\"orange\", se= TRUE)  # Adding a linear trend line without confidence intervals\n"
      ],
      "metadata": {
        "execution": {
          "iopub.status.busy": "2024-06-05T04:04:06.187805Z",
          "iopub.execute_input": "2024-06-05T04:04:06.189141Z",
          "iopub.status.idle": "2024-06-05T04:04:06.956247Z"
        },
        "trusted": true,
        "id": "CK1CFS_iTErz"
      },
      "execution_count": null,
      "outputs": []
    },
    {
      "cell_type": "markdown",
      "source": [
        "More total steps less sedentary minutes, the relationship is inversely proportional and the same way with burned calories whereas more steps more distance, this relationships is directly proportional.\n",
        "\n",
        "Let's see what is happening between Steps and Calories per day."
      ],
      "metadata": {
        "id": "Bb2f85VGTErz"
      }
    },
    {
      "cell_type": "code",
      "source": [
        "daily_average_steps <- daily_activity %>%\n",
        "  group_by(day_of_week)%>%\n",
        "  summarise(avg_steps=mean(TotalSteps))\n",
        "\n",
        "ggplot(daily_average_steps, aes(x=day_of_week, y=avg_steps, fill=day_of_week) ) +\n",
        "  geom_bar(stat = \"identity\" ) +\n",
        "  scale_fill_hue(c = 60) + ggtitle(\"Average steps per Day\")+\n",
        "  theme(legend.position = \"none\")\n",
        "\n",
        "daily_average_calories <- daily_activity %>%\n",
        "  group_by(day_of_week)%>%\n",
        "  summarise(avg_cals=mean(Calories))\n",
        "\n",
        "ggplot(daily_average_calories, aes(x=day_of_week, y=avg_cals, fill=day_of_week) ) +\n",
        "  geom_bar(stat = \"identity\" ) +\n",
        "  scale_fill_brewer(palette = \"Set3\") +\n",
        "  ggtitle(\"Average calories burned per day\")+\n",
        "  theme(legend.position = \"none\")"
      ],
      "metadata": {
        "execution": {
          "iopub.status.busy": "2024-06-05T04:04:06.958916Z",
          "iopub.execute_input": "2024-06-05T04:04:06.96029Z",
          "iopub.status.idle": "2024-06-05T04:04:07.46076Z"
        },
        "trusted": true,
        "id": "QSgqlWBNTErz"
      },
      "execution_count": null,
      "outputs": []
    },
    {
      "cell_type": "markdown",
      "source": [
        "Tuesday and Saturday are the day with highest average steps and average calories burned\n",
        "whereas Sunday and Thursday the lowest. We can observe the strong relationship between Calories and Steps per day."
      ],
      "metadata": {
        "id": "kxV2goCmTErz"
      }
    },
    {
      "cell_type": "code",
      "source": [
        "ggplot(hourly_intensities, aes(x=Time, y=AverageIntensity)) +\n",
        "  geom_histogram(stat = \"identity\", fill='purple') + ggtitle(\"Intensity Distribution along the day\") + theme(axis.text.x = element_text(angle = 90))"
      ],
      "metadata": {
        "execution": {
          "iopub.status.busy": "2024-06-05T04:04:07.463328Z",
          "iopub.execute_input": "2024-06-05T04:04:07.464666Z",
          "iopub.status.idle": "2024-06-05T04:04:07.879574Z"
        },
        "trusted": true,
        "id": "z1YP9dK0TErz"
      },
      "execution_count": null,
      "outputs": []
    },
    {
      "cell_type": "markdown",
      "source": [
        "Intensity increases in two moments, after 5:00 pm we can suspect is after working and the people take time for some \"exercise\". In th noon is the other increment, this might be the lunch time or change of work shift or just a break.\n"
      ],
      "metadata": {
        "id": "tgvkl9eETErz"
      }
    },
    {
      "cell_type": "code",
      "source": [
        "# Select only the columns related to minutes\n",
        "minutes_activity <- daily_activity[, c(\"SedentaryMinutes\", \"LightlyActiveMinutes\", \"FairlyActiveMinutes\", \"VeryActiveMinutes\")]\n",
        "\n",
        "# Calculate the mean of each activity type\n",
        "activity_means <- colMeans(minutes_activity)\n",
        "\n",
        "# Create a data frame for plotting\n",
        "activity_df <- data.frame(Activity = names(minutes_activity), Minutes = activity_means)\n",
        "\n",
        "\n",
        "# Plot pie chart\n",
        "activity_df$Percent <- activity_df$Minutes / sum(activity_df$Minutes) * 100\n",
        "\n",
        "pie_chart <- ggplot(activity_df, aes(x = \"\", y = Percent, fill = Activity)) +\n",
        "  geom_bar(stat = \"identity\", width = 1) +\n",
        "  coord_polar(\"y\", start = 0) +\n",
        "  geom_text(aes(label = paste0(round(Percent, 1), \"%\")), position = position_stack(vjust = 0.5)) +  # Add percentage labels\n",
        "  theme_void() +\n",
        "  theme(legend.position = \"right\", plot.title = element_text(hjust = 0.4)) +  # Center the title\n",
        "  labs(title = \"Daily Activity Distribution\")\n",
        "\n",
        "print(pie_chart)"
      ],
      "metadata": {
        "execution": {
          "iopub.status.busy": "2024-06-05T04:04:07.883605Z",
          "iopub.execute_input": "2024-06-05T04:04:07.884927Z",
          "iopub.status.idle": "2024-06-05T04:04:08.215073Z"
        },
        "trusted": true,
        "id": "zEM9T7H7TErz"
      },
      "execution_count": null,
      "outputs": []
    },
    {
      "cell_type": "markdown",
      "source": [
        "The highest portion of individuals is \"Sedentary Minutes\", and lowest is \"Very Active Minutes\". This confirms the results and relations seen above as well, a significant portion of individuals spend their time in sedentary activities (This time should be considered for some strategies\n",
        "\n",
        "## SHARE\n",
        "\n",
        "Key Takeaways:\n",
        "\n",
        "* Daily steps and calories burned show a directly proportional relationship, indicating that the more steps taken, the more calories burned.\n",
        "\n",
        "* The number of steps taken each day and the intensity are directly proportional relationship. Same kind of relationship exists between Time in bed and Sleep .\n",
        "\n",
        "* From 12:00 p.m. to 3:00 p.m. and from 5:00 p.m. to 8:00 p.m.(after working probably), individuals are physically active,there is a drop in activity, which may indicate that people are taking lunch (or workbreak) during that time.\n",
        "\n",
        "* On average, people are most active on Saturdays and Tuesdays. Whereas on Thursday and Sunday people is not too active.\n",
        "\n",
        "* Most participants spent 80% of their day sedentarily, then they spent 15% of the day in light activity, 1.1% in moderate activity, and 1.7% in heavy activity.\n",
        "\n",
        "## ACT\n",
        "\n",
        "Recommendations:\n",
        "\n",
        "* BellaBeat can set goals and incentives for some number of steps to be done to burn the amount of calories by the user.\n",
        "\n",
        "* With more details about the users, Bellabeat can design a special program to provide sugested diets, exercise routines and more benefits for they according their interests, time disposition, medical and physical conditions\n",
        "\n",
        "* Keeping the idea above, Bellabeat can create marketing alliances with other companies related to lifestyle and healthy  to promove and create another products related to the business\n",
        "\n",
        "* Bellabeat can launch advertising and campaigns in sedentary time slots to get more attention and visibility.\n",
        "\n"
      ],
      "metadata": {
        "id": "vwbmjQgGTErz"
      }
    }
  ]
}